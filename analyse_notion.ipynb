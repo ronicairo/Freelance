{
 "cells": [
  {
   "cell_type": "code",
   "execution_count": 2,
   "id": "1f6ac46f",
   "metadata": {},
   "outputs": [],
   "source": [
    "\n",
    "#Import\n",
    "import requests\n",
    "import pandas as pd\n",
    "from datetime import datetime, date\n",
    "from dotenv import load_dotenv\n",
    "import os\n"
   ]
  },
  {
   "cell_type": "code",
   "execution_count": 4,
   "id": "2692e02a",
   "metadata": {},
   "outputs": [],
   "source": [
    "#Chargement des variables d'environnement\n",
    "load_dotenv()\n",
    "NOTION_TOKEN = os.getenv(\"NOTION_TOKEN\")\n",
    "DB_INTERVENTIONS_ID = os.getenv(\"DB_INTERVENTIONS_ID\")"
   ]
  },
  {
   "cell_type": "code",
   "execution_count": 5,
   "id": "83cac6a9",
   "metadata": {},
   "outputs": [],
   "source": [
    "HEADERS = {\n",
    "    \"Authorization\": f\"Bearer {NOTION_TOKEN}\",\n",
    "    \"Notion-Version\": \"2022-06-28\",\n",
    "    \"Content-Type\": \"application/json\",\n",
    "}"
   ]
  },
  {
   "cell_type": "code",
   "execution_count": 6,
   "id": "87d52ef7",
   "metadata": {},
   "outputs": [],
   "source": [
    "#Conversion date format FR\n",
    "def convert_date_fr_to_iso(date_str: str) -> str:\n",
    "    return datetime.strptime(date_str, \"%d/%m/%Y\").strftime(\"%Y-%m-%d\")\n"
   ]
  },
  {
   "cell_type": "code",
   "execution_count": 8,
   "id": "9a4c0edc",
   "metadata": {},
   "outputs": [],
   "source": [
    "#Récupération des données Notion\n",
    "def get_database_properties(database_id):\n",
    "    url = f\"https://api.notion.com/v1/databases/{database_id}\"\n",
    "    response = requests.get(url, headers=HEADERS)\n",
    "    response.raise_for_status()\n",
    "    return response.json()\n",
    "\n",
    "props = get_database_properties(DB_INTERVENTIONS_ID)"
   ]
  },
  {
   "cell_type": "code",
   "execution_count": 9,
   "id": "17a80493",
   "metadata": {},
   "outputs": [],
   "source": [
    "#Récupération des données Notion avec filtres\n",
    "def query_unbilled_entries(date_begin: str, date_end: str, a_ete_facture: bool):\n",
    "\n",
    "    \"\"\"\n",
    "    Récupère les interventions dont la case 'A facturer' est cochée ou non,\n",
    "    et qui ont une date comprise entre date_begin et date_end.\n",
    "    \"\"\"\n",
    "    date_begin_fr = convert_date_fr_to_iso(date_begin)\n",
    "    date_end_fr = convert_date_fr_to_iso(date_end)\n",
    "    \n",
    "    query = {\n",
    "        \"filter\": {\n",
    "            \"and\": [\n",
    "                {\n",
    "                    \"property\": \"Facturé\",\n",
    "                    \"checkbox\": {\"equals\": a_ete_facture}\n",
    "                },\n",
    "                {\n",
    "                    \"property\": \"Date de début\",\n",
    "                    \"date\": {\"on_or_after\": date_begin_fr}\n",
    "                },\n",
    "                {\n",
    "                    \"property\": \"Date de fin\",\n",
    "                    \"date\": {\"on_or_before\": date_end_fr}\n",
    "                }\n",
    "            ]\n",
    "        }\n",
    "    }\n",
    "\n",
    "    if a_ete_facture is None :\n",
    "        query = {\n",
    "            \"filter\": {\n",
    "                \"and\": [\n",
    "                    {\n",
    "                        \"property\": \"Date de début\",\n",
    "                        \"date\": {\"on_or_after\": date_begin_fr}\n",
    "                    },\n",
    "                    {\n",
    "                        \"property\": \"Date de fin\",\n",
    "                        \"date\": {\"on_or_before\": date_end_fr}\n",
    "                    }\n",
    "                ]\n",
    "            }\n",
    "        }\n",
    "\n",
    "    response = requests.post(\n",
    "        f\"https://api.notion.com/v1/databases/{DB_INTERVENTIONS_ID}/query\",\n",
    "        headers=HEADERS,\n",
    "        json=query\n",
    "    )\n",
    "    response.raise_for_status()\n",
    "    return response.json()[\"results\"]\n"
   ]
  },
  {
   "cell_type": "code",
   "execution_count": 17,
   "id": "a946435f",
   "metadata": {},
   "outputs": [],
   "source": [
    "def parse_interventions_to_dataframe(results):\n",
    "    rows = []\n",
    "    for page in results:\n",
    "        props = page[\"properties\"]\n",
    "\n",
    "        try:\n",
    "            ville = props.get(\"Ville\", {}).get(\"select\", {}).get(\"name\", \"Inconnu\")\n",
    "            ecole = props.get(\"Ecole\", {}).get(\"select\", {}).get(\"name\", \"Inconnue\")\n",
    "            classe = props.get(\"Classe\", {}).get(\"select\", {}).get(\"name\", \"Inconnue\")\n",
    "            heures = float(props.get(\"Nombre d’heures\", {}).get(\"number\", 0))\n",
    "            tarif = float(props.get(\"Tarif horaire\", {}).get(\"number\", 0))\n",
    "            total = heures * tarif\n",
    "            date_debut_str = props.get(\"Date de début\", {}).get(\"date\", {}).get(\"start\")\n",
    "            date_debut = pd.to_datetime(date_debut_str) if date_debut_str else None\n",
    "\n",
    "            rows.append({\n",
    "                \"Ville\": ville,\n",
    "                \"Ecole\": ecole,\n",
    "                \"Classe\": classe,\n",
    "                \"Heures\": heures,\n",
    "                \"Tarif horaire\": tarif,\n",
    "                \"Total\": total,\n",
    "                \"Date de début\": date_debut\n",
    "            })\n",
    "\n",
    "        except Exception as e:\n",
    "            print(\"Erreur parsing d'une ligne:\", e)\n",
    "            continue\n",
    "\n",
    "    return pd.DataFrame(rows)"
   ]
  },
  {
   "cell_type": "code",
   "execution_count": 18,
   "id": "f10983dc",
   "metadata": {},
   "outputs": [
    {
     "data": {
      "text/html": [
       "<div>\n",
       "<style scoped>\n",
       "    .dataframe tbody tr th:only-of-type {\n",
       "        vertical-align: middle;\n",
       "    }\n",
       "\n",
       "    .dataframe tbody tr th {\n",
       "        vertical-align: top;\n",
       "    }\n",
       "\n",
       "    .dataframe thead th {\n",
       "        text-align: right;\n",
       "    }\n",
       "</style>\n",
       "<table border=\"1\" class=\"dataframe\">\n",
       "  <thead>\n",
       "    <tr style=\"text-align: right;\">\n",
       "      <th></th>\n",
       "      <th>Ville</th>\n",
       "      <th>Ecole</th>\n",
       "      <th>Classe</th>\n",
       "      <th>Heures</th>\n",
       "      <th>Tarif horaire</th>\n",
       "      <th>Total</th>\n",
       "      <th>Date de début</th>\n",
       "    </tr>\n",
       "  </thead>\n",
       "  <tbody>\n",
       "    <tr>\n",
       "      <th>0</th>\n",
       "      <td>Noisy-le-Grand</td>\n",
       "      <td>ESIEE</td>\n",
       "      <td>M1</td>\n",
       "      <td>0.0</td>\n",
       "      <td>5.0</td>\n",
       "      <td>0.0</td>\n",
       "      <td>2025-06-10</td>\n",
       "    </tr>\n",
       "  </tbody>\n",
       "</table>\n",
       "</div>"
      ],
      "text/plain": [
       "            Ville  Ecole Classe  Heures  Tarif horaire  Total Date de début\n",
       "0  Noisy-le-Grand  ESIEE     M1     0.0            5.0    0.0    2025-06-10"
      ]
     },
     "metadata": {},
     "output_type": "display_data"
    }
   ],
   "source": [
    "#Affichage des résultats avec dataframe\n",
    "date_begin_fr = \"01/06/2025\"\n",
    "date_end_fr = \"30/06/2025\"\n",
    "resultats = query_unbilled_entries(date_begin_fr, date_end_fr, a_ete_facture=False)\n",
    "df = parse_interventions_to_dataframe(resultats)\n",
    "display(df.head())\n"
   ]
  }
 ],
 "metadata": {
  "kernelspec": {
   "display_name": "base",
   "language": "python",
   "name": "python3"
  },
  "language_info": {
   "codemirror_mode": {
    "name": "ipython",
    "version": 3
   },
   "file_extension": ".py",
   "mimetype": "text/x-python",
   "name": "python",
   "nbconvert_exporter": "python",
   "pygments_lexer": "ipython3",
   "version": "3.12.7"
  }
 },
 "nbformat": 4,
 "nbformat_minor": 5
}
